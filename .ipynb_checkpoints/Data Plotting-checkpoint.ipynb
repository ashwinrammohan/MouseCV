{
 "cells": [
  {
   "cell_type": "code",
   "execution_count": 31,
   "metadata": {},
   "outputs": [],
   "source": [
    "import numpy as np\n",
    "import matplotlib\n",
    "from matplotlib import pyplot as plt\n",
    "from hdf5manager import *"
   ]
  },
  {
   "cell_type": "code",
   "execution_count": 2,
   "metadata": {
    "scrolled": true
   },
   "outputs": [
    {
     "name": "stdout",
     "output_type": "stream",
     "text": [
      "Hello\n"
     ]
    }
   ],
   "source": [
    "print (\"Hello\")"
   ]
  },
  {
   "cell_type": "code",
   "execution_count": 6,
   "metadata": {},
   "outputs": [],
   "source": [
    "xvals = []\n",
    "yvals = []\n",
    "for i in range(1,10):\n",
    "    xvals.append(i)\n",
    "    yvals.append(i*i)"
   ]
  },
  {
   "cell_type": "code",
   "execution_count": 18,
   "metadata": {},
   "outputs": [
    {
     "data": {
      "image/png": "[encoded data removed]",
      "text/plain": [
       "<matplotlib.figure.Figure at 0x251aaeb7860>"
      ]
     },
     "metadata": {},
     "output_type": "display_data"
    }
   ],
   "source": [
    "plt.plot(xvals,yvals,'bs')\n",
    "plt.xlabel('Numbers')\n",
    "plt.ylabel('Squares')\n",
    "plt.show()"
   ]
  },
  {
   "cell_type": "code",
   "execution_count": 47,
   "metadata": {},
   "outputs": [
    {
     "name": "stdout",
     "output_type": "stream",
     "text": [
      "foot_x:\t 1 2 3 4 \n",
      "foot_y:\t 2 4 6 8 \n",
      "foot_magnitude:\t 0.5 1.0 1.5 2.0 \n",
      "foot_angle:\t 0.244 0.566 0.764 0.987 \n"
     ]
    }
   ],
   "source": [
    "test_dict = {\"foot_x\":[1,2,3,4], \"foot_y\":[2,4,6,8], \"foot_magnitude\":[0.5,1.0,1.5,2.0],\"foot_angle\":[0.244,0.566,0.764,0.987]}\n",
    "for parameter in test_dict:\n",
    "    print(parameter + \":\\t\", end = \" \")\n",
    "    for i in range(len(test_dict[parameter])):\n",
    "        print(str(test_dict[parameter][i]), end = \" \")\n",
    "    print()"
   ]
  },
  {
   "cell_type": "code",
   "execution_count": 80,
   "metadata": {},
   "outputs": [
    {
     "name": "stdout",
     "output_type": "stream",
     "text": [
      "No target key specified; loading all datasets\n",
      "\n",
      "Loading datasets from hdf5 file:\n",
      "\t foot_x; void\n",
      "\t\t- loading foot_x from file...\n",
      "\t foot_y; void\n",
      "\t\t- loading foot_y from file...\n",
      "\t foot_magnitude; void\n",
      "\t\t- loading foot_magnitude from file...\n",
      "\t foot_angle; void\n",
      "\t\t- loading foot_angle from file...\n",
      "\t frame; void\n",
      "\t\t- loading frame from file...\n",
      "Keys extracted from file:\n",
      "\t foot_x, foot_y, foot_magnitude, foot_angle, frame\n",
      "\n",
      "\n",
      "\n"
     ]
    },
    {
     "data": {
      "image/png": "[encoded data removed]",
      "text/plain": [
       "<matplotlib.figure.Figure at 0x251ac5b2e48>"
      ]
     },
     "metadata": {},
     "output_type": "display_data"
    }
   ],
   "source": [
    "filepath = \"testHDF5.hdf5\"\n",
    "f = hdf5manager(filepath)\n",
    "data = f.load()\n",
    "\n",
    "#f.print()\n",
    "keys = data.keys()\n",
    "#print (len(keys))\n",
    "\n",
    "foot_x = data[\"foot_x\"]\n",
    "foot_y = data[\"foot_y\"]\n",
    "foot_mag = data[\"foot_magnitude\"]\n",
    "frame = data[\"frame\"]\n",
    "foot_theta = data[\"foot_angle\"]\n",
    "\n",
    "for i, mag in enumerate(foot_mag):\n",
    "    if mag > 25:\n",
    "        foot_x.remove(i)\n",
    "        foot_y.remove(i)\n",
    "        foot_mag.remove(i)\n",
    "        frame.remove(i)\n",
    "        \n",
    "\n",
    "pos, mag = plt.subplots()\n",
    "plt.subplot(121),plt.plot(foot_x,foot_y,'bs')\n",
    "plt.subplot(122),plt.plot(frame,foot_mag,'b-')\n",
    "plt.show()"
   ]
  },
  {
   "cell_type": "code",
   "execution_count": null,
   "metadata": {},
   "outputs": [],
   "source": []
  }
 ],
 "metadata": {
  "kernelspec": {
   "display_name": "Python 3",
   "language": "python",
   "name": "python3"
  },
  "language_info": {
   "codemirror_mode": {
    "name": "ipython",
    "version": 3
   },
   "file_extension": ".py",
   "mimetype": "text/x-python",
   "name": "python",
   "nbconvert_exporter": "python",
   "pygments_lexer": "ipython3",
   "version": "3.6.4"
  }
 },
 "nbformat": 4,
 "nbformat_minor": 2
}
