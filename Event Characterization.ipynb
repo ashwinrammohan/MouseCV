{
 "cells": [
  {
   "cell_type": "code",
   "execution_count": 1,
   "metadata": {},
   "outputs": [
    {
     "name": "stderr",
     "output_type": "stream",
     "text": [
      "C:\\Users\\ashwi\\Anaconda3\\lib\\site-packages\\h5py\\__init__.py:36: FutureWarning: Conversion of the second argument of issubdtype from `float` to `np.floating` is deprecated. In future, it will be treated as `np.float64 == np.dtype(float).type`.\n",
      "  from ._conv import register_converters as _register_converters\n"
     ]
    },
    {
     "ename": "ModuleNotFoundError",
     "evalue": "No module named 'cv2'",
     "output_type": "error",
     "traceback": [
      "\u001b[1;31m---------------------------------------------------------------------------\u001b[0m",
      "\u001b[1;31mModuleNotFoundError\u001b[0m                       Traceback (most recent call last)",
      "\u001b[1;32m<ipython-input-1-842a6d9d9d37>\u001b[0m in \u001b[0;36m<module>\u001b[1;34m()\u001b[0m\n\u001b[0;32m      5\u001b[0m \u001b[1;32mfrom\u001b[0m \u001b[0mscipy\u001b[0m\u001b[1;33m.\u001b[0m\u001b[0mstats\u001b[0m \u001b[1;32mimport\u001b[0m \u001b[0mpoisson\u001b[0m\u001b[1;33m\u001b[0m\u001b[0m\n\u001b[0;32m      6\u001b[0m \u001b[1;32mfrom\u001b[0m \u001b[0mscipy\u001b[0m\u001b[1;33m.\u001b[0m\u001b[0mstats\u001b[0m \u001b[1;32mimport\u001b[0m \u001b[0mmode\u001b[0m\u001b[1;33m\u001b[0m\u001b[0m\n\u001b[1;32m----> 7\u001b[1;33m \u001b[1;32mfrom\u001b[0m \u001b[0mderivativeEventDetection\u001b[0m \u001b[1;32mimport\u001b[0m \u001b[0mdetectSpikes\u001b[0m\u001b[1;33m\u001b[0m\u001b[0m\n\u001b[0m\u001b[0;32m      8\u001b[0m \u001b[1;32mimport\u001b[0m \u001b[0mpandas\u001b[0m \u001b[1;32mas\u001b[0m \u001b[0mpd\u001b[0m\u001b[1;33m\u001b[0m\u001b[0m\n\u001b[0;32m      9\u001b[0m \u001b[1;33m\u001b[0m\u001b[0m\n",
      "\u001b[1;32m~\\Documents\\Github\\MouseCV\\derivativeEventDetection.py\u001b[0m in \u001b[0;36m<module>\u001b[1;34m()\u001b[0m\n\u001b[0;32m      4\u001b[0m \u001b[1;32mfrom\u001b[0m \u001b[0mhdf5manager\u001b[0m \u001b[1;32mimport\u001b[0m \u001b[1;33m*\u001b[0m\u001b[1;33m\u001b[0m\u001b[0m\n\u001b[0;32m      5\u001b[0m \u001b[1;32mfrom\u001b[0m \u001b[0mscipy\u001b[0m\u001b[1;33m.\u001b[0m\u001b[0mstats\u001b[0m \u001b[1;32mimport\u001b[0m \u001b[0mpoisson\u001b[0m\u001b[1;33m\u001b[0m\u001b[0m\n\u001b[1;32m----> 6\u001b[1;33m \u001b[1;32mimport\u001b[0m \u001b[0mcv2\u001b[0m \u001b[1;32mas\u001b[0m \u001b[0mcv\u001b[0m\u001b[1;33m\u001b[0m\u001b[0m\n\u001b[0m\u001b[0;32m      7\u001b[0m \u001b[1;32mimport\u001b[0m \u001b[0msys\u001b[0m\u001b[1;33m\u001b[0m\u001b[0m\n\u001b[0;32m      8\u001b[0m \u001b[1;33m\u001b[0m\u001b[0m\n",
      "\u001b[1;31mModuleNotFoundError\u001b[0m: No module named 'cv2'"
     ]
    }
   ],
   "source": [
    "import numpy as np\n",
    "import matplotlib\n",
    "from matplotlib import pyplot as plt\n",
    "from hdf5manager import *\n",
    "from scipy.stats import poisson\n",
    "from scipy.stats import mode\n",
    "from derivativeEventDetection import detectSpikes\n",
    "import pandas as pd\n",
    "\n",
    "def eventCharacterization(brain_data):\n",
    "\tmax_events = 0\n",
    "\tnumRows = brain_data.shape[0]\n",
    "\tfor i in range(numRows):\n",
    "\t\tdataRow = brain_data[i]\n",
    "\t\tstart_spikes, mid_spikes, end_spikes, vals = detectSpikes(dataRow, -0.3)\n",
    "\t\tsize = len(start_spikes)\n",
    "\t\tif (size > max_events):\n",
    "\t\t\tmax_events = size\n",
    "\tmaster_dict = {\"Duration\": np.zeros((numRows, max_events)), \"Number of Events\": np.zeros(numRows), \"Event Frequency\": np.zeros(numRows), \"Event Magnitude\": np.zeros((numRows, max_events))}\n",
    "\tmaster_dict[\"Duration\"][:][:] = np.NaN\n",
    "\tmaster_dict[\"Event Magnitude\"][:][:] = np.NaN\n",
    "\n",
    "\tfor i in range(numRows):\n",
    "\t\tprint(\"Doing timecourse number \" + str(i))\n",
    "\t\tdataRow = brain_data[i]\n",
    "\t\tstart_spikes, mid_spikes, end_spikes, vals = detectSpikes(dataRow, -0.3)\n",
    "\t\tsize = len(start_spikes)\n",
    "\t\tmaster_dict[\"Number of Events\"][i] = size\n",
    "\t\tmaster_dict[\"Event Frequency\"][i] = event_Frequency_Mode(start_spikes,dataRow.shape[0])\n",
    "\t\tfor j in range(size):\n",
    "\t\t\tmaster_dict[\"Duration\"][i][j] = (end_spikes[j] - start_spikes[-j-1])/10\n",
    "\t\t\tmaster_dict[\"Event Magnitude\"][i][j] = dataRow[end_spikes[j]] - np.mean(dataRow[start_spikes[-j-1]:end_spikes[j]])\n",
    "\n",
    "\treturn master_dict\n",
    "\n",
    "#finds the most commonly occurring event frequency for a given time course to characterize it\n",
    "#start_spikes - the starting indices of each of the events in the timecourse\n",
    "#size is the length of the timecourse in frames\n",
    "def event_Frequency_Mode(start_spikes, size):\n",
    "\tbins = np.arange(100,size+100,100) #10 second (100 frames at 10 fps) intervals along the entire timecourse\n",
    "\teventRates = []\n",
    "\n",
    "\tfor j in range(0,bins.shape[0]):\n",
    "\t\tstart = bins[j] - 100\n",
    "\t\tend = bins[j]\n",
    "\t\tnum_local_events = 0\n",
    "\t\tfor k in range(len(start_spikes)):\n",
    "\t\t\tif (start_spikes[k] >= start and start_spikes[k] <= end):\n",
    "\t\t\t\tnum_local_events +=1\n",
    "\t\t#print(\"(\" + str(start) + \" to \" + str(end) + \"): \" + str(num_local_events/10))\n",
    "\t\teventRates.append(num_local_events/10) #number of events per 10 seconds\n",
    "\teventRates = np.asarray(eventRates)\n",
    "\trelevantRates = eventRates[np.where(eventRates > 0.0)][0] #find nonzero event rates (the relevant ones)\n",
    "\tmode_val = mode(np.asarray(relevantRates))[0][0] #find the most commonly occurring event frequency in this timecourse\n",
    "\treturn mode_val\n",
    "\n",
    "\n",
    "data = hdf5manager(\"P2_timecourses.hdf5\").load()\n",
    "brain_data = data['brain'][:10]\n",
    "master_dict = eventCharacterization(brain_data)\n",
    "e = master_dict[\"Event Frequency\"]\n",
    "\n",
    "a = np.asarray([1,2,3,4,5])\n",
    "df = pd.DataFrame(data = a)\n",
    "#pd.DataFrame(data = master_dict.items(), columns = master_dict.keys())"
   ]
  },
  {
   "cell_type": "code",
   "execution_count": null,
   "metadata": {},
   "outputs": [],
   "source": []
  }
 ],
 "metadata": {
  "kernelspec": {
   "display_name": "Python 3",
   "language": "python",
   "name": "python3"
  },
  "language_info": {
   "codemirror_mode": {
    "name": "ipython",
    "version": 3
   },
   "file_extension": ".py",
   "mimetype": "text/x-python",
   "name": "python",
   "nbconvert_exporter": "python",
   "pygments_lexer": "ipython3",
   "version": "3.6.4"
  }
 },
 "nbformat": 4,
 "nbformat_minor": 2
}
